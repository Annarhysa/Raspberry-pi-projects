{
 "cells": [
  {
   "cell_type": "code",
   "execution_count": null,
   "metadata": {},
   "outputs": [],
   "source": [
    "import RPi.GPIO as GPIO\n",
    "import time\n",
    "GPIO.setwarnings(False)\n",
    "GPIO.setmode(GPIO.BCM)\n",
    "GPIO.setup(11, GPIO.IN, pull_up_down = GPIO.PUD_DOWN)\n",
    "GPIO.setup(3,GPIO.OUT)\n",
    "\n",
    "try:\n",
    "    while True:\n",
    "        i = GPIO.input(11)\n",
    "        if i ==0:\n",
    "            print(\"No intruders\", i)\n",
    "            GPIO.output(3, 0)\n",
    "            time.sleep(1)\n",
    "        \n",
    "        else:\n",
    "            print(\"Intruders detected\", i)\n",
    "            GPIO.output(3,1)\n",
    "            time.sleep(1)\n",
    "        \n",
    "except KeyboardInterrupt:\n",
    "    GPIO.cleanup()"
   ]
  }
 ],
 "metadata": {
  "language_info": {
   "name": "python"
  }
 },
 "nbformat": 4,
 "nbformat_minor": 2
}

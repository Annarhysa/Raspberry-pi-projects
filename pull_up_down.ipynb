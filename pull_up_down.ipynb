{
 "cells": [
  {
   "cell_type": "code",
   "execution_count": null,
   "metadata": {},
   "outputs": [],
   "source": [
    "import RPi.GPIO as GPIO\n",
    "from time import sleep\n",
    "\n",
    "button_pin1 = 17\n",
    "button_pin2 = 18\n",
    "led_pin = 27\n",
    "\n",
    "GPIO.setwarnings(False)\n",
    "GPIO.setmode(GPIO.BCM)\n",
    "GPIO.setup(button_pin1, GPIO.IN, pull_up_down = GPIO.PUD_DOWN)\n",
    "GPIO.setup(button_pin2, GPIO.IN, pull_up_down = GPIO.PUD_UP)\n",
    "GPIO.setup(led_pin, GPIO.OUT)\n",
    "\n",
    "def turn_on_led(channel):\n",
    "    GPIO.output(led_pin, GPIO.HIGH)\n",
    "    print(\"Button 1 is rising, LED ON\")\n",
    "\n",
    "def turn_off_led(channel):\n",
    "    GPIO.output(led_pin, GPIO.LOW)\n",
    "    print(\"Button 2 is falling, LED OFF\")\n",
    "\n",
    "\n",
    "GPIO.add_event_detect(button_pin2, GPIO.FALLING, callback = turn_off_led, bouncetime = 200)\n",
    "GPIO.add_event_detect(button_pin1, GPIO.RISING, callback = turn_on_led, bouncetime = 200)\n",
    "\n",
    "try:\n",
    "    while True:\n",
    "        pass\n",
    "\n",
    "except KeyboardInterrupt:\n",
    "    GPIO.cleanup()"
   ]
  }
 ],
 "metadata": {
  "language_info": {
   "name": "python"
  }
 },
 "nbformat": 4,
 "nbformat_minor": 2
}

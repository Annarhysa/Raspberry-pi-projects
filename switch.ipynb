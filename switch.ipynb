{
 "cells": [
  {
   "cell_type": "code",
   "execution_count": null,
   "metadata": {},
   "outputs": [],
   "source": [
    "import RPi.GPIO as GPIO\n",
    "import time\n",
    "\n",
    "GPIO.setmode(GPIO.BCM)\n",
    "GPIO.setup(23, GPIO.IN, pull_up_down = GPIO.PUD_UP)\n",
    "GPIO.setup(24, GPIO.OUT)\n",
    "\n",
    "while True:\n",
    "    button_state = GPIO.input(23)\n",
    "    if button_state == True:\n",
    "        GPIO.output(24, True)\n",
    "        print(\"Button pressed...\")\n",
    "        time.sleep(0.2)\n",
    "    else:\n",
    "        GPIO.output(24, False)"
   ]
  }
 ],
 "metadata": {
  "language_info": {
   "name": "python"
  }
 },
 "nbformat": 4,
 "nbformat_minor": 2
}

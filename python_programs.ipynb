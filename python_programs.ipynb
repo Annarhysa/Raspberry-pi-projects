{
 "cells": [
  {
   "cell_type": "markdown",
   "metadata": {},
   "source": [
    "##### Q1 a) Write a program using while loop to check the number n is less than seven. If it is less than seven, print n is less than 7 and add 1 to n. If it is greater than 7, print n is not less than 7."
   ]
  },
  {
   "cell_type": "code",
   "execution_count": 1,
   "metadata": {},
   "outputs": [
    {
     "name": "stdout",
     "output_type": "stream",
     "text": [
      "n is less than 7\n",
      "n is less than 7\n",
      "n is not less than 7\n"
     ]
    }
   ],
   "source": [
    "n =  int(input(\"Enter a number: \"))\n",
    "while n < 7:\n",
    "    print(\"n is less than 7\")\n",
    "    n += 1\n",
    "print(\"n is not less than 7\")"
   ]
  },
  {
   "cell_type": "markdown",
   "metadata": {},
   "source": [
    "##### Q1 b) Write a python program to convert a list of dictionaries into a list of values corresponding to the specified key."
   ]
  },
  {
   "cell_type": "code",
   "execution_count": 5,
   "metadata": {},
   "outputs": [
    {
     "name": "stdout",
     "output_type": "stream",
     "text": [
      "\n",
      "Convert a list of dictionaries into a list of values corresponding to the specified key:\n",
      "[144, 22]\n"
     ]
    }
   ],
   "source": [
    "def test(lsts, key):\n",
    "    return [x.get(key) for x in lsts]\n",
    "\n",
    "students = [\n",
    "    {'name': 'Anna', 'RegNo': 144},\n",
    "    {'name': 'Mat', 'RegNo': 22},\n",
    "]\n",
    "\n",
    "#print(\"Original list of dictionaries:\")\n",
    "#print(students)\n",
    "\n",
    "key = input(\"Enter the key: \")\n",
    "print(\"\\nConvert a list of dictionaries into a list of values corresponding to the specified key:\")\n",
    "print(test(students, key)) \n"
   ]
  },
  {
   "cell_type": "markdown",
   "metadata": {},
   "source": [
    "##### Q2 a) Write a python program to create a dictionary of keys x, y, and z where each key has as value a list from 11-20, 21-30, and 31-40 respectively. Access the fifth value of each key from the dictionary."
   ]
  },
  {
   "cell_type": "code",
   "execution_count": 6,
   "metadata": {},
   "outputs": [
    {
     "name": "stdout",
     "output_type": "stream",
     "text": [
      "{'x': [11, 12, 13, 14, 15, 16, 17, 18, 19],\n",
      " 'y': [21, 22, 23, 24, 25, 26, 27, 28, 29],\n",
      " 'z': [31, 32, 33, 34, 35, 36, 37, 38, 39]}\n",
      "15\n",
      "25\n",
      "35\n",
      "x has value [11, 12, 13, 14, 15, 16, 17, 18, 19]\n",
      "y has value [21, 22, 23, 24, 25, 26, 27, 28, 29]\n",
      "z has value [31, 32, 33, 34, 35, 36, 37, 38, 39]\n"
     ]
    }
   ],
   "source": [
    "from pprint import pprint\n",
    "\n",
    "dict_nums = dict(x=list(range(11, 20)), y=list(range(21, 30)), z=list(range(31, 40)))\n",
    "\n",
    "pprint(dict_nums)\n",
    "\n",
    "print(dict_nums[\"x\"][4])\n",
    "print(dict_nums[\"y\"][4])\n",
    "print(dict_nums[\"z\"][4])\n",
    "\n",
    "for k, v in dict_nums.items():\n",
    "    print(k, \"has value\", v)\n"
   ]
  },
  {
   "cell_type": "markdown",
   "metadata": {},
   "source": [
    "##### Q2 b) Write a function for checking the speed of drivers. This function should have one parameter: speed. If speed is   less than 65, it should print “Ok”. Otherwise, for every 5km above the speed limit (75), it should give the driver one demerit point and print the total number of demerit points. For example, if the speed is 75, it should print: “Points: 2”.If the driver gets more than 12 points, the function should print: “License suspended”."
   ]
  },
  {
   "cell_type": "code",
   "execution_count": 9,
   "metadata": {},
   "outputs": [
    {
     "name": "stdout",
     "output_type": "stream",
     "text": [
      "License suspended\n"
     ]
    }
   ],
   "source": [
    "def check_speed(speed):\n",
    "    if speed < 70:\n",
    "        print(\"Ok\")\n",
    "    else:\n",
    "        demerit_points = (speed - 70) // 5\n",
    "        if demerit_points <= 12:\n",
    "            print(\"Points:\", demerit_points)\n",
    "        else:\n",
    "            print(\"License suspended\")\n",
    "\n",
    "check_speed(150)"
   ]
  },
  {
   "cell_type": "markdown",
   "metadata": {},
   "source": [
    "##### Q3 a) Write a function called show Numbers that takes a parameter called limit. It should print all the numbers between 0 and limit with a label to identify the even and odd numbers. For example, if the limit is 3, it should print:\n",
    "0EVEN\n",
    "1ODD\n",
    "2EVEN\n",
    "3ODD"
   ]
  },
  {
   "cell_type": "code",
   "execution_count": 10,
   "metadata": {},
   "outputs": [
    {
     "name": "stdout",
     "output_type": "stream",
     "text": [
      "0 EVEN\n",
      "1 ODD\n",
      "2 EVEN\n",
      "3 ODD\n"
     ]
    }
   ],
   "source": [
    "def show_numbers(limit):\n",
    "    for num in range(limit + 1):\n",
    "        if num % 2 == 0:\n",
    "            print(num, \"EVEN\")\n",
    "        else:\n",
    "            print(num, \"ODD\")\n",
    "\n",
    "show_numbers(3)"
   ]
  },
  {
   "cell_type": "markdown",
   "metadata": {},
   "source": [
    "##### Q3 b) Write a Python program to check if each number is prime in a given list of numbers. Return True if all numbers are prime otherwise False."
   ]
  },
  {
   "cell_type": "code",
   "execution_count": 50,
   "metadata": {},
   "outputs": [
    {
     "name": "stdout",
     "output_type": "stream",
     "text": [
      "False\n"
     ]
    }
   ],
   "source": [
    "from math import ceil\n",
    "def is_prime(x):\n",
    "\n",
    "    if x <= 1:\n",
    "        return 0\n",
    "    if x == 2:\n",
    "        return 1\n",
    "    for n in range(3, ceil(x**(0.5)), 2):\n",
    "        if x % n == 0:\n",
    "            return 0\n",
    "    return 1\n",
    "\n",
    "\n",
    "my_list = [1,2,5,7]\n",
    "result = list(map(is_prime,my_list))\n",
    "\n",
    "c = 0\n",
    "for i in range(0,len(result)):\n",
    "    if result[i] == 1:\n",
    "        c = c+1\n",
    "\n",
    "if (c== len(result)):\n",
    "    print(\"True\")\n",
    "else:\n",
    "    print(\"False\")"
   ]
  },
  {
   "cell_type": "markdown",
   "metadata": {},
   "source": [
    "#### Q6 a)i)Write a Python Program to generate a temperature profile dictionary (values in range: 30 to 100) for ten days randomly (from august 1 to august 31) and check whether august 10 data exist in a dictionary or not. (Key=date, value=temperate value). \n",
    "#### ii) Repeat the above program for July month and write a python program to concatenate the two dictionariesinto one dictionary named July_aug_temp."
   ]
  },
  {
   "cell_type": "code",
   "execution_count": 51,
   "metadata": {},
   "outputs": [
    {
     "name": "stdout",
     "output_type": "stream",
     "text": [
      "Day\t\t Temperature\n",
      "August  12 \t 41\n",
      "August  25 \t 74\n",
      "August  8 \t 58\n",
      "August  17 \t 96\n",
      "August  27 \t 64\n",
      "August  28 \t 78\n",
      "August  10 \t 60\n",
      "August  15 \t 40\n",
      "It exists\n"
     ]
    }
   ],
   "source": [
    "# i)\n",
    "import random\n",
    "tempProf = {}\n",
    "for i in range(11):\n",
    "  x = random.randrange(1,31)\n",
    "  y = random.randrange(30,100)\n",
    "  tempProf[x]=y\n",
    "print(\"Day\\t\\t Temperature\")\n",
    "for day,temp in tempProf.items():\n",
    "  print(\"August \",day,\"\\t\",temp)\n",
    "flag = 10 in tempProf\n",
    "if flag == False:\n",
    "  print(\"Does not exist\")\n",
    "else:\n",
    "  print('It exists')"
   ]
  },
  {
   "cell_type": "code",
   "execution_count": 52,
   "metadata": {},
   "outputs": [
    {
     "name": "stdout",
     "output_type": "stream",
     "text": [
      "Day\t\t Temperature\n",
      "July 31  \t 88\n",
      "July 26  \t 31\n",
      "July 21  \t 48\n",
      "July 15  \t 81\n",
      "July 7  \t 79\n",
      "July 3  \t 39\n",
      "July 20  \t 44\n",
      "July 19  \t 48\n",
      "July 13  \t 72\n",
      "August 22  \t 39\n",
      "August 20  \t 91\n",
      "August 4  \t 47\n",
      "August 26  \t 40\n",
      "August 24  \t 63\n",
      "August 18  \t 87\n",
      "August 6  \t 92\n"
     ]
    }
   ],
   "source": [
    "# ii) \n",
    "import random\n",
    "from collections import defaultdict\n",
    "tempProf_july = {}\n",
    "tempProf_aug = {}\n",
    "july_aug_temp = defaultdict(list)\n",
    "for i in range(0,10):\n",
    "  x = random.randint(1,31)\n",
    "  y = random.randint(30,100)\n",
    "  s1=\"July \"+str(x)\n",
    "  tempProf_july[s1]=y\n",
    "  m = random.randint(1,31)\n",
    "  n = random.randint(30,100)\n",
    "  s2=\"August \"+str(m)\n",
    "  tempProf_aug[s2]=n\n",
    "for tempProf in (tempProf_july, tempProf_aug):\n",
    "  for key, value in tempProf.items():\n",
    "    july_aug_temp[key].append(value)\n",
    "print(\"Day\\t\\t Temperature\")\n",
    "for day,temp in july_aug_temp.items():\n",
    "  print(day,\" \\t\",temp[0])"
   ]
  },
  {
   "cell_type": "markdown",
   "metadata": {},
   "source": [
    "#### Q6 b) Write a python program, that repeatedly asks the user to enter product names and prices. Store all of them in a dictionary whose keys are product names and values are prices. And also write a code to search an item from the dictionary. "
   ]
  },
  {
   "cell_type": "code",
   "execution_count": 55,
   "metadata": {},
   "outputs": [
    {
     "name": "stdout",
     "output_type": "stream",
     "text": [
      "\n",
      "Price of product =  200\n",
      "\n",
      "Price of product =  100\n",
      "\n",
      "Price of product =  300\n",
      "\n"
     ]
    }
   ],
   "source": [
    "dic = { }\n",
    "while True :\n",
    "    product = input(\"Enter the name of product (enter q for quit )= \")\n",
    "    if product == \"q\" or product == \"Q\" :\n",
    "        print()\n",
    "        break\n",
    "    else :\n",
    "        price = int(input(\"Enter the price of product = \"))\n",
    "        dic [ product ] = price\n",
    "while True :\n",
    "    name = input(\"Enter the name of product those you have entered (enter q for quit )= \")\n",
    "    if name == \"q\" or name == \"Q\" :\n",
    "        break\n",
    "    else :\n",
    "        if name not in dic :\n",
    "            print(\"Name of product is invalid\")\n",
    "            print()\n",
    "        else :\n",
    "            print(\"Price of product = \",dic[name])\n",
    "            print()"
   ]
  },
  {
   "cell_type": "markdown",
   "metadata": {},
   "source": [
    "#### Q15 a)Write a function called divisible that takes a number. If the number is divisible by “7”, it should return “Seven”. It is divisible by 3, it should return “Three”.If it is divisible by both 7 and 3, it should return “Seven and Three” Otherwise, it should return the same number."
   ]
  },
  {
   "cell_type": "code",
   "execution_count": 59,
   "metadata": {},
   "outputs": [
    {
     "data": {
      "text/plain": [
       "'Seven and Three'"
      ]
     },
     "execution_count": 59,
     "metadata": {},
     "output_type": "execute_result"
    }
   ],
   "source": [
    "def divisible(number):\n",
    "    if number % 3 == 0 and number % 7 == 0:\n",
    "        return \"Seven and Three\"\n",
    "    elif number % 3 == 0:\n",
    "        return \"Three\"\n",
    "    elif number % 7 == 0:\n",
    "        return \"Seven\"\n",
    "    else:\n",
    "        return number\n",
    "\n",
    "divisible(21)"
   ]
  },
  {
   "cell_type": "markdown",
   "metadata": {},
   "source": [
    "#### Q15 b)Write a python program to count positive and negative numbers in a list."
   ]
  },
  {
   "cell_type": "code",
   "execution_count": 70,
   "metadata": {},
   "outputs": [
    {
     "name": "stdout",
     "output_type": "stream",
     "text": [
      "The positive numbers form the list are :  2\n",
      "The positive numbers form the list are :  4\n"
     ]
    }
   ],
   "source": [
    "def positive_num(list):\n",
    "    positive = []\n",
    "    for i in range(len(list)):\n",
    "        if (list[i]>=0):\n",
    "            positive.append(list[i])\n",
    "    return positive\n",
    "\n",
    "def negative_num(list):\n",
    "    negative = []\n",
    "    for i in range(len(list)):\n",
    "        if (list[i]<0):\n",
    "            negative.append(list[i])\n",
    "    \n",
    "    return negative\n",
    "\n",
    "list = [-1,-2,-3,0, 4,-10]\n",
    "\n",
    "print(\"The positive numbers form the list are : \" , len(positive_num(list)))\n",
    "print(\"The positive numbers form the list are : \" , len(negative_num(list)))"
   ]
  },
  {
   "cell_type": "markdown",
   "metadata": {},
   "source": [
    "#### Q16 a) Write a Python program to find N largest and smallest elements from the list."
   ]
  },
  {
   "cell_type": "code",
   "execution_count": 71,
   "metadata": {},
   "outputs": [
    {
     "name": "stdout",
     "output_type": "stream",
     "text": [
      "Maximum two elements:  [9, 8]\n",
      "Minimum two elements:  [1, 2]\n"
     ]
    }
   ],
   "source": [
    "def maxel(list1, N):\n",
    "    final_list = []\n",
    "    for i in range(0, N):\n",
    "        max1 = 0\n",
    "        for j in range(len(list1)):\n",
    "            if list1[j] > max1:\n",
    "                max1 = list1[j]\n",
    "        list1.remove(max1)\n",
    "        final_list.append(max1)\n",
    "    return final_list\n",
    "\n",
    "\n",
    "def minel(l, n):\n",
    "    nSmallestList = []\n",
    "    for i in range(n):\n",
    "        nSmallestList.append(min(l))\n",
    "        l.remove(min(l))\n",
    "    return nSmallestList\n",
    "\n",
    "list = [1,2,3,4,5,6,7,8,9]\n",
    "print(\"Maximum two elements: \", maxel(list,2))\n",
    "print(\"Minimum two elements: \", minel(list,2))"
   ]
  },
  {
   "cell_type": "markdown",
   "metadata": {},
   "source": [
    "#### Q16 b) Write a Python program to combine two or more dictionaries, creating a list of values for each key."
   ]
  },
  {
   "cell_type": "code",
   "execution_count": 76,
   "metadata": {},
   "outputs": [
    {
     "name": "stdout",
     "output_type": "stream",
     "text": [
      "{'a': [1, 4], 'b': [2, 5, 7], 'c': [3, 8], 'd': [6], 'e': [9]}\n"
     ]
    }
   ],
   "source": [
    "def combine_dictionaries(*dictionaries):\n",
    "    combined_dict = {}\n",
    "\n",
    "    for dictionary in dictionaries:\n",
    "        for key, value in dictionary.items():\n",
    "            if key in combined_dict:\n",
    "                combined_dict[key].append(value)\n",
    "            else:\n",
    "                combined_dict[key] = [value]\n",
    "\n",
    "    return combined_dict\n",
    "\n",
    "# Example dictionaries\n",
    "dict1 = {'a': 1, 'b': 2, 'c': 3}\n",
    "dict2 = {'a': 4, 'b': 5, 'd': 6}\n",
    "dict3 = {'b': 7, 'c': 8, 'e': 9}\n",
    "\n",
    "# Combine dictionaries\n",
    "result_dict = combine_dictionaries(dict1, dict2, dict3)\n",
    "\n",
    "# Display the combined dictionary\n",
    "print(result_dict)\n"
   ]
  }
 ],
 "metadata": {
  "kernelspec": {
   "display_name": "Python 3",
   "language": "python",
   "name": "python3"
  },
  "language_info": {
   "codemirror_mode": {
    "name": "ipython",
    "version": 3
   },
   "file_extension": ".py",
   "mimetype": "text/x-python",
   "name": "python",
   "nbconvert_exporter": "python",
   "pygments_lexer": "ipython3",
   "version": "3.11.4"
  }
 },
 "nbformat": 4,
 "nbformat_minor": 2
}

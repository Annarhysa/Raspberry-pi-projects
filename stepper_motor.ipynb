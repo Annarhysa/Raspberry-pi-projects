{
 "cells": [
  {
   "cell_type": "code",
   "execution_count": null,
   "metadata": {},
   "outputs": [],
   "source": [
    "import RPi.GPIO as GPIO\n",
    "import time\n",
    "A1 = 17\n",
    "A2 = 18\n",
    "B1 = 22\n",
    "B2 = 23\n",
    "\n",
    "GPIO.setmode(GPIO.BCM)\n",
    "GPIO.setup(A1, GPIO.OUT)\n",
    "GPIO.steup(A2, GPIO.OUT)\n",
    "GPIO.setup(B1, GPIO.OUT)\n",
    "GPIO.setup(B2, GPIO.OUT)\n",
    "\n",
    "forward_sequence = ['1010', '0110', '0101', '1001']\n",
    "reverse_sequence = list(reversed(forward_sequence))\n",
    "\n",
    "direction = input(\"Enter forward of reverse: \")\n",
    "num_steps = int(input(\"Enter the number of steps: \"))\n",
    "\n",
    "if direction == 'forward':\n",
    "    sequence = forward_sequence\n",
    "elif direction == 'reverse':\n",
    "    sequence = reverse_sequence\n",
    "else:\n",
    "    print(\"Invalid direction. Please enter forward or reverse: \")\n",
    "    GPIO.cleanup()\n",
    "    exit()\n",
    "\n",
    "\n",
    "for _ in range(num_steps):\n",
    "    for step in sequence:\n",
    "        GPIO.output(A1, int(step[0]))\n",
    "        GPIO.output(A2, int(step[1]))\n",
    "        GPIO.output(B1, int(step[2]))\n",
    "        GPIO.output(B2, int(step[3]))\n",
    "        time.sleep(0.5)\n",
    "\n",
    "GPIO.cleanup()"
   ]
  }
 ],
 "metadata": {
  "language_info": {
   "name": "python"
  }
 },
 "nbformat": 4,
 "nbformat_minor": 2
}

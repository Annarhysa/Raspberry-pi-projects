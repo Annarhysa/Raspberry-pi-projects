{
 "cells": [
  {
   "cell_type": "code",
   "execution_count": null,
   "metadata": {},
   "outputs": [],
   "source": [
    "import RPi.GPIO as GPIO\n",
    "import time\n",
    "\n",
    "GPIO.setmode(GPIO.BCM)\n",
    "a_pin = 18\n",
    "b_pin = 23\n",
    "\n",
    "def discharge():\n",
    "    GPIO.setup(a_pin, GPIO.IN)\n",
    "    GPIO.setup(b_pin, GPIO.OUT)\n",
    "    GPIO.output(b_pin, False)\n",
    "    time.sleep(0.005)\n",
    "\n",
    "def charge_time():\n",
    "    GPIO.setup(b_pin, GPIO.IN)\n",
    "    GPIO.setup(a_pin, GPIO.OUT)\n",
    "    count = 0\n",
    "    GPIO.output(a_pin, True)\n",
    "    while not GPIO.input(b_pin):\n",
    "        count = count + 1\n",
    "    return count\n",
    "\n",
    "def analog_read():\n",
    "    discharge()\n",
    "    return charge_time()\n",
    "\n",
    "while True:\n",
    "    print(analog_read())\n",
    "    time.sleep(1)"
   ]
  }
 ],
 "metadata": {
  "language_info": {
   "name": "python"
  }
 },
 "nbformat": 4,
 "nbformat_minor": 2
}

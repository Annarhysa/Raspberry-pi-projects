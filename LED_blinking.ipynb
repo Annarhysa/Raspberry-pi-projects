{
 "cells": [
  {
   "cell_type": "code",
   "execution_count": null,
   "metadata": {},
   "outputs": [],
   "source": [
    "import RPi.GPIO as GPIO\n",
    "import time\n",
    "\n",
    "led_pin = 18\n",
    "GPIO.setmode(GPIO.BCM)\n",
    "GPIO.setup(led_pin, GPIO.OUT)\n",
    "\n",
    "pwm_led = GPIO.PWM(led_pin, 500)\n",
    "pwm_led.start(100)\n",
    "\n",
    "while True:\n",
    "    duty_s = raw_input(\"Enter the brightness you want (0-100): \")\n",
    "    duty = int(duty_s)\n",
    "    pwm_led.ChangeDutyCycle(duty)\n",
    "    GPIO.output(led_pin, True)\n",
    "    time.sleep(0.5)\n",
    "    GPIO.output(led_pin, False)\n",
    "    time.sleep(0.5)"
   ]
  }
 ],
 "metadata": {
  "language_info": {
   "name": "python"
  }
 },
 "nbformat": 4,
 "nbformat_minor": 2
}

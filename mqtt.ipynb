{
 "cells": [
  {
   "cell_type": "code",
   "execution_count": 1,
   "metadata": {},
   "outputs": [
    {
     "ename": "TimeoutError",
     "evalue": "timed out",
     "output_type": "error",
     "traceback": [
      "\u001b[1;31m---------------------------------------------------------------------------\u001b[0m",
      "\u001b[1;31mTimeoutError\u001b[0m                              Traceback (most recent call last)",
      "\u001b[1;32mc:\\Users\\annar\\OneDrive\\Desktop\\Visual Studio\\GitHub\\Projects3\\Raspberry-pi-projects\\mqtt.ipynb Cell 1\u001b[0m line \u001b[0;36m1\n\u001b[0;32m     <a href='vscode-notebook-cell:/c%3A/Users/annar/OneDrive/Desktop/Visual%20Studio/GitHub/Projects3/Raspberry-pi-projects/mqtt.ipynb#W0sZmlsZQ%3D%3D?line=14'>15</a>\u001b[0m client1\u001b[39m.\u001b[39mon_publish \u001b[39m=\u001b[39m on_publish                     \n\u001b[0;32m     <a href='vscode-notebook-cell:/c%3A/Users/annar/OneDrive/Desktop/Visual%20Studio/GitHub/Projects3/Raspberry-pi-projects/mqtt.ipynb#W0sZmlsZQ%3D%3D?line=15'>16</a>\u001b[0m client1\u001b[39m.\u001b[39musername_pw_set(ACCESS_TOKEN)               \n\u001b[1;32m---> <a href='vscode-notebook-cell:/c%3A/Users/annar/OneDrive/Desktop/Visual%20Studio/GitHub/Projects3/Raspberry-pi-projects/mqtt.ipynb#W0sZmlsZQ%3D%3D?line=16'>17</a>\u001b[0m client1\u001b[39m.\u001b[39;49mconnect(broker,port,keepalive\u001b[39m=\u001b[39;49m\u001b[39m60\u001b[39;49m)           \n\u001b[0;32m     <a href='vscode-notebook-cell:/c%3A/Users/annar/OneDrive/Desktop/Visual%20Studio/GitHub/Projects3/Raspberry-pi-projects/mqtt.ipynb#W0sZmlsZQ%3D%3D?line=18'>19</a>\u001b[0m \u001b[39mwhile\u001b[39;00m \u001b[39mTrue\u001b[39;00m:\n\u001b[0;32m     <a href='vscode-notebook-cell:/c%3A/Users/annar/OneDrive/Desktop/Visual%20Studio/GitHub/Projects3/Raspberry-pi-projects/mqtt.ipynb#W0sZmlsZQ%3D%3D?line=20'>21</a>\u001b[0m    payload\u001b[39m=\u001b[39m\u001b[39m\"\u001b[39m\u001b[39m{\u001b[39m\u001b[39m\"\u001b[39m\n",
      "File \u001b[1;32mc:\\Users\\annar\\AppData\\Local\\Programs\\Python\\Python311\\Lib\\site-packages\\paho\\mqtt\\client.py:914\u001b[0m, in \u001b[0;36mClient.connect\u001b[1;34m(self, host, port, keepalive, bind_address, bind_port, clean_start, properties)\u001b[0m\n\u001b[0;32m    910\u001b[0m         \u001b[39mraise\u001b[39;00m \u001b[39mValueError\u001b[39;00m(\u001b[39m\"\u001b[39m\u001b[39mProperties only apply to MQTT V5\u001b[39m\u001b[39m\"\u001b[39m)\n\u001b[0;32m    912\u001b[0m \u001b[39mself\u001b[39m\u001b[39m.\u001b[39mconnect_async(host, port, keepalive,\n\u001b[0;32m    913\u001b[0m                    bind_address, bind_port, clean_start, properties)\n\u001b[1;32m--> 914\u001b[0m \u001b[39mreturn\u001b[39;00m \u001b[39mself\u001b[39;49m\u001b[39m.\u001b[39;49mreconnect()\n",
      "File \u001b[1;32mc:\\Users\\annar\\AppData\\Local\\Programs\\Python\\Python311\\Lib\\site-packages\\paho\\mqtt\\client.py:1044\u001b[0m, in \u001b[0;36mClient.reconnect\u001b[1;34m(self)\u001b[0m\n\u001b[0;32m   1041\u001b[0m \u001b[39m# Put messages in progress in a valid state.\u001b[39;00m\n\u001b[0;32m   1042\u001b[0m \u001b[39mself\u001b[39m\u001b[39m.\u001b[39m_messages_reconnect_reset()\n\u001b[1;32m-> 1044\u001b[0m sock \u001b[39m=\u001b[39m \u001b[39mself\u001b[39;49m\u001b[39m.\u001b[39;49m_create_socket_connection()\n\u001b[0;32m   1046\u001b[0m \u001b[39mif\u001b[39;00m \u001b[39mself\u001b[39m\u001b[39m.\u001b[39m_ssl:\n\u001b[0;32m   1047\u001b[0m     \u001b[39m# SSL is only supported when SSLContext is available (implies Python >= 2.7.9 or >= 3.2)\u001b[39;00m\n\u001b[0;32m   1049\u001b[0m     verify_host \u001b[39m=\u001b[39m \u001b[39mnot\u001b[39;00m \u001b[39mself\u001b[39m\u001b[39m.\u001b[39m_tls_insecure\n",
      "File \u001b[1;32mc:\\Users\\annar\\AppData\\Local\\Programs\\Python\\Python311\\Lib\\site-packages\\paho\\mqtt\\client.py:3685\u001b[0m, in \u001b[0;36mClient._create_socket_connection\u001b[1;34m(self)\u001b[0m\n\u001b[0;32m   3683\u001b[0m     \u001b[39mreturn\u001b[39;00m socks\u001b[39m.\u001b[39mcreate_connection(addr, timeout\u001b[39m=\u001b[39m\u001b[39mself\u001b[39m\u001b[39m.\u001b[39m_connect_timeout, source_address\u001b[39m=\u001b[39msource, \u001b[39m*\u001b[39m\u001b[39m*\u001b[39mproxy)\n\u001b[0;32m   3684\u001b[0m \u001b[39melse\u001b[39;00m:\n\u001b[1;32m-> 3685\u001b[0m     \u001b[39mreturn\u001b[39;00m socket\u001b[39m.\u001b[39;49mcreate_connection(addr, timeout\u001b[39m=\u001b[39;49m\u001b[39mself\u001b[39;49m\u001b[39m.\u001b[39;49m_connect_timeout, source_address\u001b[39m=\u001b[39;49msource)\n",
      "File \u001b[1;32mc:\\Users\\annar\\AppData\\Local\\Programs\\Python\\Python311\\Lib\\socket.py:851\u001b[0m, in \u001b[0;36mcreate_connection\u001b[1;34m(address, timeout, source_address, all_errors)\u001b[0m\n\u001b[0;32m    849\u001b[0m \u001b[39mtry\u001b[39;00m:\n\u001b[0;32m    850\u001b[0m     \u001b[39mif\u001b[39;00m \u001b[39mnot\u001b[39;00m all_errors:\n\u001b[1;32m--> 851\u001b[0m         \u001b[39mraise\u001b[39;00m exceptions[\u001b[39m0\u001b[39m]\n\u001b[0;32m    852\u001b[0m     \u001b[39mraise\u001b[39;00m ExceptionGroup(\u001b[39m\"\u001b[39m\u001b[39mcreate_connection failed\u001b[39m\u001b[39m\"\u001b[39m, exceptions)\n\u001b[0;32m    853\u001b[0m \u001b[39mfinally\u001b[39;00m:\n\u001b[0;32m    854\u001b[0m     \u001b[39m# Break explicitly a reference cycle\u001b[39;00m\n",
      "File \u001b[1;32mc:\\Users\\annar\\AppData\\Local\\Programs\\Python\\Python311\\Lib\\socket.py:836\u001b[0m, in \u001b[0;36mcreate_connection\u001b[1;34m(address, timeout, source_address, all_errors)\u001b[0m\n\u001b[0;32m    834\u001b[0m \u001b[39mif\u001b[39;00m source_address:\n\u001b[0;32m    835\u001b[0m     sock\u001b[39m.\u001b[39mbind(source_address)\n\u001b[1;32m--> 836\u001b[0m sock\u001b[39m.\u001b[39;49mconnect(sa)\n\u001b[0;32m    837\u001b[0m \u001b[39m# Break explicitly a reference cycle\u001b[39;00m\n\u001b[0;32m    838\u001b[0m exceptions\u001b[39m.\u001b[39mclear()\n",
      "\u001b[1;31mTimeoutError\u001b[0m: timed out"
     ]
    }
   ],
   "source": [
    "import paho.mqtt.client as paho  \t\t    \n",
    "import os\n",
    "import json\n",
    "import time\n",
    "from datetime import datetime\n",
    "\n",
    "ACCESS_TOKEN='/T/KIVv6mZF3X2uH2tBdw/o/'                 \n",
    "broker=\"demo.thingsboard.io\"   \t\t\t    \n",
    "port=1883 \t\t\t\t\t    \n",
    "\n",
    "def on_publish(client,userdata,result):             \n",
    "    print(\"data published to thingsboard \\n\")\n",
    "    pass\n",
    "\n",
    "client1= paho.Client(\"control1\")                    \n",
    "client1.on_publish = on_publish                     \n",
    "client1.username_pw_set(ACCESS_TOKEN)               \n",
    "client1.connect(broker,port,keepalive=60)           \n",
    "\n",
    "while True:\n",
    "  \n",
    "   payload=\"{\"\n",
    "   payload+=\"\\\"Humidity\\\":60,\"; \n",
    "   payload+=\"\\\"Temperature\\\":25\"; \n",
    "   payload+=\"}\"\n",
    "   ret= client1.publish(\"v1/devices/me/telemetry\",payload) \n",
    "   print(\"Please check LATEST TELEMETRY field of your device\")\n",
    "   print(payload);\n",
    "   time.sleep(5)"
   ]
  },
  {
   "cell_type": "code",
   "execution_count": null,
   "metadata": {},
   "outputs": [],
   "source": []
  }
 ],
 "metadata": {
  "kernelspec": {
   "display_name": "Python 3",
   "language": "python",
   "name": "python3"
  },
  "language_info": {
   "codemirror_mode": {
    "name": "ipython",
    "version": 3
   },
   "file_extension": ".py",
   "mimetype": "text/x-python",
   "name": "python",
   "nbconvert_exporter": "python",
   "pygments_lexer": "ipython3",
   "version": "3.11.4"
  }
 },
 "nbformat": 4,
 "nbformat_minor": 2
}

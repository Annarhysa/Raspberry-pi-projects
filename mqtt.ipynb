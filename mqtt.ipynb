{
 "cells": [
  {
   "cell_type": "code",
   "execution_count": null,
   "metadata": {},
   "outputs": [],
   "source": [
    "import paho.mqtt.client as paho  \t\t    \n",
    "import os\n",
    "import json\n",
    "import time\n",
    "from datetime import datetime\n",
    "\n",
    "ACCESS_TOKEN='token_id'                 \n",
    "broker=\"demo.thingsboard.io\"   \t\t\t    \n",
    "port=1883 \t\t\t\t\t    \n",
    "\n",
    "def on_publish(client,userdata,result):             \n",
    "    print(\"data published to thingsboard \\n\")\n",
    "    pass\n",
    "client1= paho.Client(\"control1\")                    \n",
    "client1.on_publish = on_publish                     \n",
    "client1.username_pw_set(ACCESS_TOKEN)               \n",
    "client1.connect(broker,port,keepalive=60)           \n",
    "\n",
    "while True:\n",
    "  \n",
    "   payload=\"{\"\n",
    "   payload+=\"\\\"Humidity\\\":60,\"; \n",
    "   payload+=\"\\\"Temperature\\\":25\"; \n",
    "   payload+=\"}\"\n",
    "   ret= client1.publish(\"v1/devices/me/telemetry\",payload) \n",
    "   print(\"Please check LATEST TELEMETRY field of your device\")\n",
    "   print(payload);\n",
    "   time.sleep(5)"
   ]
  }
 ],
 "metadata": {
  "language_info": {
   "name": "python"
  }
 },
 "nbformat": 4,
 "nbformat_minor": 2
}

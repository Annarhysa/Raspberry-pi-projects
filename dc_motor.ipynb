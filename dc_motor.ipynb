{
 "cells": [
  {
   "cell_type": "code",
   "execution_count": null,
   "metadata": {},
   "outputs": [],
   "source": [
    "import RPi.GPIO as GPIO\n",
    "import time\n",
    "relay = 16\n",
    "\n",
    "GPIO.setwarnings(False)\n",
    "GPIO.setmode(GPIO.BCM)\n",
    "GPIO.setup(relay, GPIO.OUT)\n",
    "\n",
    "for i in range(4):\n",
    "    GPIO.output(relay, GPIO.LOW)\n",
    "    print(\"Relay Switched on\")\n",
    "    GPIO.output(relay, GPIO.HIGH)\n",
    "    print(\"Relay Switched off\")\n",
    "    time.sleep(1)"
   ]
  }
 ],
 "metadata": {
  "language_info": {
   "name": "python"
  }
 },
 "nbformat": 4,
 "nbformat_minor": 2
}
